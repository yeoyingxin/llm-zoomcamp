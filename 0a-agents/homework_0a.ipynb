{
 "cells": [
  {
   "cell_type": "code",
   "execution_count": 7,
   "id": "ae9f2abd",
   "metadata": {},
   "outputs": [],
   "source": [
    "import random\n",
    "\n",
    "known_weather_data = {\n",
    "    'berlin': 20.0\n",
    "}\n",
    "\n",
    "def get_weather(city: str) -> float:\n",
    "    city = city.strip().lower()\n",
    "\n",
    "    if city in known_weather_data:\n",
    "        return known_weather_data[city]\n",
    "\n",
    "    return round(random.uniform(-5, 35), 1)"
   ]
  },
  {
   "cell_type": "markdown",
   "id": "b7ab1f78",
   "metadata": {},
   "source": [
    "# Question 1"
   ]
  },
  {
   "cell_type": "code",
   "execution_count": null,
   "id": "8ccb03d3",
   "metadata": {},
   "outputs": [],
   "source": [
    "get_weather_tool = {\n",
    "    \"type\": \"function\",\n",
    "    \"name\": \"string\",\n",
    "    \"description\": \"shows weather data of the chosen city\",\n",
    "    \"parameters\": {\n",
    "        \"type\": \"object\",\n",
    "        \"properties\": {\n",
    "            \"city\": {\n",
    "                \"type\": \"string\",\n",
    "                \"description\": \"the city for which we want the weather information\"\n",
    "            }\n",
    "        },\n",
    "        \"required\": ['city'],\n",
    "        \"additionalProperties\": False\n",
    "    }\n",
    "}"
   ]
  },
  {
   "cell_type": "code",
   "execution_count": 3,
   "id": "1544086c",
   "metadata": {},
   "outputs": [
    {
     "data": {
      "text/plain": [
       "9.8"
      ]
     },
     "execution_count": 3,
     "metadata": {},
     "output_type": "execute_result"
    }
   ],
   "source": [
    "get_weather('paris')"
   ]
  },
  {
   "cell_type": "markdown",
   "id": "1df3e778",
   "metadata": {},
   "source": [
    "# Question 2"
   ]
  },
  {
   "cell_type": "code",
   "execution_count": null,
   "id": "7e7f8e48",
   "metadata": {},
   "outputs": [],
   "source": [
    "def set_weather(city: str, temp: float) -> None:\n",
    "\n",
    "    city = city.strip().lower()\n",
    "    known_weather_data[city] = temp\n",
    "    return 'OK'"
   ]
  },
  {
   "cell_type": "code",
   "execution_count": 10,
   "id": "20639a80",
   "metadata": {},
   "outputs": [
    {
     "data": {
      "text/plain": [
       "'OK'"
      ]
     },
     "execution_count": 10,
     "metadata": {},
     "output_type": "execute_result"
    }
   ],
   "source": [
    "set_weather('Paris', 37)"
   ]
  },
  {
   "cell_type": "code",
   "execution_count": 11,
   "id": "ece79a27",
   "metadata": {},
   "outputs": [
    {
     "data": {
      "text/plain": [
       "{'berlin': 5, 'paris': 37}"
      ]
     },
     "execution_count": 11,
     "metadata": {},
     "output_type": "execute_result"
    }
   ],
   "source": [
    "known_weather_data"
   ]
  },
  {
   "cell_type": "code",
   "execution_count": null,
   "id": "8ab3aa5d",
   "metadata": {},
   "outputs": [],
   "source": [
    "set_weather_tool = {\n",
    "    \"type\":\"function\",\n",
    "    \"name\":\"set_weather\",\n",
    "    \"description\":\"Updates the temperature for cities in weather database or sets the temperature for new cities\",\n",
    "    \"parameters\":{\n",
    "        \"type\":\"object\",\n",
    "        \"properties\":{\"city\": {\"type\":\"string\", \"description\":\"name of the city\"},\n",
    "                      \"temp\": {\"type\":\"float\", \"description\":\"temperature of the city\"}},\n",
    "        \"required\":[\"city\", \"temp\"],\n",
    "        \"additionalProperties\": False\n",
    "    }\n",
    "}"
   ]
  },
  {
   "cell_type": "markdown",
   "id": "d82f6679",
   "metadata": {},
   "source": [
    "# Question 3"
   ]
  },
  {
   "cell_type": "code",
   "execution_count": 12,
   "id": "43db8502",
   "metadata": {},
   "outputs": [
    {
     "name": "stdout",
     "output_type": "stream",
     "text": [
      "Note: you may need to restart the kernel to use updated packages.Collecting fastmcp\n",
      "  Downloading fastmcp-2.11.3-py3-none-any.whl (260 kB)\n",
      "Collecting mcp<2.0.0,>=1.12.4\n",
      "  Downloading mcp-1.13.0-py3-none-any.whl (160 kB)\n",
      "Collecting authlib>=1.5.2\n",
      "  Downloading authlib-1.6.1-py2.py3-none-any.whl (239 kB)\n",
      "Requirement already satisfied: httpx>=0.28.1 in c:\\users\\ying xin\\projects\\llm-zoomcamp\\venv\\lib\\site-packages (from fastmcp) (0.28.1)\n",
      "Collecting openapi-pydantic>=0.5.1\n",
      "  Downloading openapi_pydantic-0.5.1-py3-none-any.whl (96 kB)\n",
      "Collecting cyclopts>=3.0.0\n",
      "  Downloading cyclopts-3.22.5-py3-none-any.whl (84 kB)\n",
      "Requirement already satisfied: exceptiongroup>=1.2.2 in c:\\users\\ying xin\\projects\\llm-zoomcamp\\venv\\lib\\site-packages (from fastmcp) (1.3.0)\n",
      "Collecting pyperclip>=1.9.0\n",
      "  Downloading pyperclip-1.9.0.tar.gz (20 kB)\n",
      "Requirement already satisfied: python-dotenv>=1.1.0 in c:\\users\\ying xin\\projects\\llm-zoomcamp\\venv\\lib\\site-packages (from fastmcp) (1.1.1)\n",
      "Collecting openapi-core>=0.19.5\n",
      "  Downloading openapi_core-0.19.5-py3-none-any.whl (106 kB)\n",
      "Collecting rich>=13.9.4\n",
      "  Downloading rich-14.1.0-py3-none-any.whl (243 kB)\n",
      "Requirement already satisfied: pydantic[email]>=2.11.7 in c:\\users\\ying xin\\projects\\llm-zoomcamp\\venv\\lib\\site-packages (from fastmcp) (2.11.7)\n",
      "Collecting cryptography\n",
      "  Downloading cryptography-45.0.6-cp37-abi3-win_amd64.whl (3.4 MB)\n",
      "Requirement already satisfied: attrs>=23.1.0 in c:\\users\\ying xin\\projects\\llm-zoomcamp\\venv\\lib\\site-packages (from cyclopts>=3.0.0->fastmcp) (25.3.0)\n",
      "Collecting rich-rst<2.0.0,>=1.3.1\n",
      "  Downloading rich_rst-1.3.1-py3-none-any.whl (11 kB)\n",
      "Requirement already satisfied: typing-extensions>=4.8.0 in c:\\users\\ying xin\\projects\\llm-zoomcamp\\venv\\lib\\site-packages (from cyclopts>=3.0.0->fastmcp) (4.14.1)\n",
      "Collecting docstring-parser>=0.15\n",
      "  Downloading docstring_parser-0.17.0-py3-none-any.whl (36 kB)\n",
      "Requirement already satisfied: certifi in c:\\users\\ying xin\\projects\\llm-zoomcamp\\venv\\lib\\site-packages (from httpx>=0.28.1->fastmcp) (2025.6.15)\n",
      "Requirement already satisfied: httpcore==1.* in c:\\users\\ying xin\\projects\\llm-zoomcamp\\venv\\lib\\site-packages (from httpx>=0.28.1->fastmcp) (1.0.9)\n",
      "Requirement already satisfied: anyio in c:\\users\\ying xin\\projects\\llm-zoomcamp\\venv\\lib\\site-packages (from httpx>=0.28.1->fastmcp) (4.9.0)\n",
      "Requirement already satisfied: idna in c:\\users\\ying xin\\projects\\llm-zoomcamp\\venv\\lib\\site-packages (from httpx>=0.28.1->fastmcp) (3.10)\n",
      "Requirement already satisfied: h11>=0.16 in c:\\users\\ying xin\\projects\\llm-zoomcamp\\venv\\lib\\site-packages (from httpcore==1.*->httpx>=0.28.1->fastmcp) (0.16.0)\n",
      "Requirement already satisfied: pywin32>=310 in c:\\users\\ying xin\\projects\\llm-zoomcamp\\venv\\lib\\site-packages (from mcp<2.0.0,>=1.12.4->fastmcp) (310)\n",
      "Collecting sse-starlette>=1.6.1\n",
      "  Downloading sse_starlette-3.0.2-py3-none-any.whl (11 kB)\n",
      "Collecting httpx-sse>=0.4\n",
      "  Downloading httpx_sse-0.4.1-py3-none-any.whl (8.1 kB)\n",
      "Collecting starlette>=0.27\n",
      "  Downloading starlette-0.47.2-py3-none-any.whl (72 kB)\n",
      "Collecting uvicorn>=0.31.1\n",
      "  Downloading uvicorn-0.35.0-py3-none-any.whl (66 kB)\n",
      "Collecting pydantic-settings>=2.5.2\n",
      "  Downloading pydantic_settings-2.10.1-py3-none-any.whl (45 kB)\n",
      "Collecting python-multipart>=0.0.9\n",
      "  Downloading python_multipart-0.0.20-py3-none-any.whl (24 kB)\n",
      "Requirement already satisfied: jsonschema>=4.20.0 in c:\\users\\ying xin\\projects\\llm-zoomcamp\\venv\\lib\\site-packages (from mcp<2.0.0,>=1.12.4->fastmcp) (4.24.0)\n",
      "Requirement already satisfied: sniffio>=1.1 in c:\\users\\ying xin\\projects\\llm-zoomcamp\\venv\\lib\\site-packages (from anyio->httpx>=0.28.1->fastmcp) (1.3.1)\n",
      "Requirement already satisfied: rpds-py>=0.7.1 in c:\\users\\ying xin\\projects\\llm-zoomcamp\\venv\\lib\\site-packages (from jsonschema>=4.20.0->mcp<2.0.0,>=1.12.4->fastmcp) (0.26.0)\n",
      "Requirement already satisfied: referencing>=0.28.4 in c:\\users\\ying xin\\projects\\llm-zoomcamp\\venv\\lib\\site-packages (from jsonschema>=4.20.0->mcp<2.0.0,>=1.12.4->fastmcp) (0.36.2)\n",
      "Requirement already satisfied: jsonschema-specifications>=2023.03.6 in c:\\users\\ying xin\\projects\\llm-zoomcamp\\venv\\lib\\site-packages (from jsonschema>=4.20.0->mcp<2.0.0,>=1.12.4->fastmcp) (2025.4.1)\n",
      "Collecting isodate\n",
      "  Downloading isodate-0.7.2-py3-none-any.whl (22 kB)\n",
      "Collecting werkzeug<3.1.2\n",
      "  Downloading werkzeug-3.1.1-py3-none-any.whl (224 kB)\n",
      "Collecting openapi-spec-validator<0.8.0,>=0.7.1\n",
      "  Downloading openapi_spec_validator-0.7.2-py3-none-any.whl (39 kB)\n",
      "Collecting more-itertools\n",
      "  Downloading more_itertools-10.7.0-py3-none-any.whl (65 kB)\n",
      "Collecting parse\n",
      "  Downloading parse-1.20.2-py2.py3-none-any.whl (20 kB)\n",
      "Collecting jsonschema-path<0.4.0,>=0.3.1\n",
      "  Downloading jsonschema_path-0.3.4-py3-none-any.whl (14 kB)\n",
      "Collecting openapi-schema-validator<0.7.0,>=0.6.0\n",
      "  Downloading openapi_schema_validator-0.6.3-py3-none-any.whl (8.8 kB)\n",
      "Collecting pathable<0.5.0,>=0.4.1\n",
      "  Downloading pathable-0.4.4-py3-none-any.whl (9.6 kB)\n",
      "Requirement already satisfied: requests<3.0.0,>=2.31.0 in c:\\users\\ying xin\\projects\\llm-zoomcamp\\venv\\lib\\site-packages (from jsonschema-path<0.4.0,>=0.3.1->openapi-core>=0.19.5->fastmcp) (2.32.4)\n",
      "Requirement already satisfied: PyYAML>=5.1 in c:\\users\\ying xin\\projects\\llm-zoomcamp\\venv\\lib\\site-packages (from jsonschema-path<0.4.0,>=0.3.1->openapi-core>=0.19.5->fastmcp) (6.0.2)\n",
      "Requirement already satisfied: rfc3339-validator in c:\\users\\ying xin\\projects\\llm-zoomcamp\\venv\\lib\\site-packages (from openapi-schema-validator<0.7.0,>=0.6.0->openapi-core>=0.19.5->fastmcp) (0.1.4)\n",
      "Collecting lazy-object-proxy<2.0.0,>=1.7.1\n",
      "  Downloading lazy_object_proxy-1.11.0-cp310-cp310-win_amd64.whl (28 kB)\n",
      "Requirement already satisfied: annotated-types>=0.6.0 in c:\\users\\ying xin\\projects\\llm-zoomcamp\\venv\\lib\\site-packages (from pydantic[email]>=2.11.7->fastmcp) (0.7.0)\n",
      "Requirement already satisfied: pydantic-core==2.33.2 in c:\\users\\ying xin\\projects\\llm-zoomcamp\\venv\\lib\\site-packages (from pydantic[email]>=2.11.7->fastmcp) (2.33.2)\n",
      "Requirement already satisfied: typing-inspection>=0.4.0 in c:\\users\\ying xin\\projects\\llm-zoomcamp\\venv\\lib\\site-packages (from pydantic[email]>=2.11.7->fastmcp) (0.4.1)\n",
      "Collecting email-validator>=2.0.0\n",
      "  Downloading email_validator-2.2.0-py3-none-any.whl (33 kB)\n",
      "Collecting dnspython>=2.0.0\n",
      "  Downloading dnspython-2.7.0-py3-none-any.whl (313 kB)\n",
      "Requirement already satisfied: urllib3<3,>=1.21.1 in c:\\users\\ying xin\\projects\\llm-zoomcamp\\venv\\lib\\site-packages (from requests<3.0.0,>=2.31.0->jsonschema-path<0.4.0,>=0.3.1->openapi-core>=0.19.5->fastmcp) (2.5.0)\n",
      "Requirement already satisfied: charset_normalizer<4,>=2 in c:\\users\\ying xin\\projects\\llm-zoomcamp\\venv\\lib\\site-packages (from requests<3.0.0,>=2.31.0->jsonschema-path<0.4.0,>=0.3.1->openapi-core>=0.19.5->fastmcp) (3.4.2)\n",
      "Requirement already satisfied: pygments<3.0.0,>=2.13.0 in c:\\users\\ying xin\\projects\\llm-zoomcamp\\venv\\lib\\site-packages (from rich>=13.9.4->fastmcp) (2.19.2)\n",
      "Collecting markdown-it-py>=2.2.0\n",
      "  Downloading markdown_it_py-4.0.0-py3-none-any.whl (87 kB)\n",
      "Collecting mdurl~=0.1\n",
      "  Downloading mdurl-0.1.2-py3-none-any.whl (10.0 kB)\n",
      "Collecting docutils\n",
      "  Downloading docutils-0.22-py3-none-any.whl (630 kB)\n",
      "Collecting click>=7.0\n",
      "  Downloading click-8.2.1-py3-none-any.whl (102 kB)\n",
      "Requirement already satisfied: colorama in c:\\users\\ying xin\\projects\\llm-zoomcamp\\venv\\lib\\site-packages (from click>=7.0->uvicorn>=0.31.1->mcp<2.0.0,>=1.12.4->fastmcp) (0.4.6)\n",
      "Requirement already satisfied: MarkupSafe>=2.1.1 in c:\\users\\ying xin\\projects\\llm-zoomcamp\\venv\\lib\\site-packages (from werkzeug<3.1.2->openapi-core>=0.19.5->fastmcp) (3.0.2)\n",
      "Requirement already satisfied: cffi>=1.14 in c:\\users\\ying xin\\projects\\llm-zoomcamp\\venv\\lib\\site-packages (from cryptography->authlib>=1.5.2->fastmcp) (1.17.1)\n",
      "Requirement already satisfied: pycparser in c:\\users\\ying xin\\projects\\llm-zoomcamp\\venv\\lib\\site-packages (from cffi>=1.14->cryptography->authlib>=1.5.2->fastmcp) (2.22)\n",
      "Requirement already satisfied: six in c:\\users\\ying xin\\projects\\llm-zoomcamp\\venv\\lib\\site-packages (from rfc3339-validator->openapi-schema-validator<0.7.0,>=0.6.0->openapi-core>=0.19.5->fastmcp) (1.17.0)\n",
      "Using legacy 'setup.py install' for pyperclip, since package 'wheel' is not installed.\n",
      "Installing collected packages: mdurl, pathable, markdown-it-py, rich, openapi-schema-validator, lazy-object-proxy, jsonschema-path, docutils, dnspython, click, werkzeug, uvicorn, starlette, sse-starlette, rich-rst, python-multipart, pydantic-settings, parse, openapi-spec-validator, more-itertools, isodate, httpx-sse, email-validator, docstring-parser, cryptography, pyperclip, openapi-pydantic, openapi-core, mcp, cyclopts, authlib, fastmcp\n",
      "    Running setup.py install for pyperclip: started\n",
      "    Running setup.py install for pyperclip: finished with status 'done'\n",
      "Successfully installed authlib-1.6.1 click-8.2.1 cryptography-45.0.6 cyclopts-3.22.5 dnspython-2.7.0 docstring-parser-0.17.0 docutils-0.22 email-validator-2.2.0 fastmcp-2.11.3 httpx-sse-0.4.1 isodate-0.7.2 jsonschema-path-0.3.4 lazy-object-proxy-1.11.0 markdown-it-py-4.0.0 mcp-1.13.0 mdurl-0.1.2 more-itertools-10.7.0 openapi-core-0.19.5 openapi-pydantic-0.5.1 openapi-schema-validator-0.6.3 openapi-spec-validator-0.7.2 parse-1.20.2 pathable-0.4.4 pydantic-settings-2.10.1 pyperclip-1.9.0 python-multipart-0.0.20 rich-14.1.0 rich-rst-1.3.1 sse-starlette-3.0.2 starlette-0.47.2 uvicorn-0.35.0 werkzeug-3.1.1\n",
      "\n"
     ]
    },
    {
     "name": "stderr",
     "output_type": "stream",
     "text": [
      "WARNING: You are using pip version 21.2.3; however, version 25.2 is available.\n",
      "You should consider upgrading via the 'c:\\Users\\ying xin\\Projects\\llm-zoomcamp\\venv\\Scripts\\python.exe -m pip install --upgrade pip' command.\n"
     ]
    }
   ],
   "source": [
    "pip install fastmcp"
   ]
  },
  {
   "cell_type": "code",
   "execution_count": 13,
   "id": "cd17301e",
   "metadata": {},
   "outputs": [
    {
     "name": "stdout",
     "output_type": "stream",
     "text": [
      "Package                   Version\n",
      "------------------------- --------------\n",
      "annotated-types           0.7.0\n",
      "anyio                     4.9.0\n",
      "argon2-cffi               25.1.0\n",
      "argon2-cffi-bindings      21.2.0\n",
      "arrow                     1.3.0\n",
      "asttokens                 3.0.0\n",
      "async-lru                 2.0.5\n",
      "attrs                     25.3.0\n",
      "Authlib                   1.6.1\n",
      "babel                     2.17.0\n",
      "beautifulsoup4            4.13.4\n",
      "bleach                    6.2.0\n",
      "cachetools                5.5.2\n",
      "certifi                   2025.6.15\n",
      "cffi                      1.17.1\n",
      "charset-normalizer        3.4.2\n",
      "click                     8.2.1\n",
      "colorama                  0.4.6\n",
      "coloredlogs               15.0.1\n",
      "comm                      0.2.2\n",
      "cryptography              45.0.6\n",
      "cyclopts                  3.22.5\n",
      "debugpy                   1.8.14\n",
      "decorator                 5.2.1\n",
      "defusedxml                0.7.1\n",
      "dnspython                 2.7.0\n",
      "docstring_parser          0.17.0\n",
      "docutils                  0.22\n",
      "elastic-transport         8.17.1\n",
      "elasticsearch             8.4.3\n",
      "email_validator           2.2.0\n",
      "exceptiongroup            1.3.0\n",
      "executing                 2.2.0\n",
      "fastembed                 0.7.1\n",
      "fastjsonschema            2.21.1\n",
      "fastmcp                   2.11.3\n",
      "filelock                  3.18.0\n",
      "flatbuffers               25.2.10\n",
      "fqdn                      1.5.1\n",
      "fsspec                    2025.5.1\n",
      "google-auth               2.40.3\n",
      "google-genai              1.24.0\n",
      "grpcio                    1.73.1\n",
      "h11                       0.16.0\n",
      "h2                        4.2.0\n",
      "hpack                     4.1.0\n",
      "httpcore                  1.0.9\n",
      "httpx                     0.28.1\n",
      "httpx-sse                 0.4.1\n",
      "huggingface-hub           0.33.4\n",
      "humanfriendly             10.0\n",
      "hyperframe                6.1.0\n",
      "idna                      3.10\n",
      "ipykernel                 6.29.5\n",
      "ipython                   8.37.0\n",
      "ipywidgets                8.1.7\n",
      "isodate                   0.7.2\n",
      "isoduration               20.11.0\n",
      "jedi                      0.19.2\n",
      "Jinja2                    3.1.6\n",
      "joblib                    1.5.1\n",
      "json5                     0.12.0\n",
      "jsonpointer               3.0.0\n",
      "jsonschema                4.24.0\n",
      "jsonschema-path           0.3.4\n",
      "jsonschema-specifications 2025.4.1\n",
      "jupyter                   1.1.1\n",
      "jupyter_client            8.6.3\n",
      "jupyter-console           6.6.3\n",
      "jupyter_core              5.8.1\n",
      "jupyter-events            0.12.0\n",
      "jupyter-lsp               2.2.5\n",
      "jupyter_server            2.16.0\n",
      "jupyter_server_terminals  0.5.3\n",
      "jupyterlab                4.4.4\n",
      "jupyterlab_pygments       0.3.0\n",
      "jupyterlab_server         2.27.3\n",
      "jupyterlab_widgets        3.0.15\n",
      "lazy-object-proxy         1.11.0\n",
      "loguru                    0.7.3\n",
      "Markdown                  3.8.2\n",
      "markdown-it-py            4.0.0\n",
      "Note: you may need to restart the kernel to use updated packages.\n",
      "MarkupSafe                3.0.2\n",
      "matplotlib-inline         0.1.7\n",
      "mcp                       1.13.0\n",
      "mdurl                     0.1.2\n",
      "minsearch                 0.0.4\n",
      "mistune                   3.1.3\n",
      "mmh3                      5.1.0\n",
      "more-itertools            10.7.0\n",
      "mpmath                    1.3.0\n",
      "nbclient                  0.10.2\n",
      "nbconvert                 7.16.6\n",
      "nbformat                  5.10.4\n",
      "nest-asyncio              1.6.0\n",
      "notebook                  7.4.4\n",
      "notebook_shim             0.2.4\n",
      "numpy                     2.2.6\n",
      "onnxruntime               1.22.1\n",
      "openapi-core              0.19.5\n",
      "openapi-pydantic          0.5.1\n",
      "openapi-schema-validator  0.6.3\n",
      "openapi-spec-validator    0.7.2\n",
      "overrides                 7.7.0\n",
      "packaging                 25.0\n",
      "pandas                    2.3.1\n",
      "pandocfilters             1.5.1\n",
      "parse                     1.20.2\n",
      "parso                     0.8.4\n",
      "pathable                  0.4.4\n",
      "pillow                    11.3.0\n",
      "pip                       21.2.3\n",
      "platformdirs              4.3.8\n",
      "portalocker               2.10.1\n",
      "prometheus_client         0.22.1\n",
      "prompt_toolkit            3.0.51\n",
      "protobuf                  6.31.1\n",
      "psutil                    7.0.0\n",
      "pure_eval                 0.2.3\n",
      "py_rust_stemmers          0.1.5\n",
      "pyasn1                    0.6.1\n",
      "pyasn1_modules            0.4.2\n",
      "pycparser                 2.22\n",
      "pydantic                  2.11.7\n",
      "pydantic_core             2.33.2\n",
      "pydantic-settings         2.10.1\n",
      "Pygments                  2.19.2\n",
      "pyperclip                 1.9.0\n",
      "pyreadline3               3.5.4\n",
      "python-dateutil           2.9.0.post0\n",
      "python-dotenv             1.1.1\n",
      "python-json-logger        3.3.0\n",
      "python-multipart          0.0.20\n",
      "pytz                      2025.2\n",
      "pywin32                   310\n",
      "pywinpty                  2.0.15\n",
      "PyYAML                    6.0.2\n",
      "pyzmq                     27.0.0\n",
      "qdrant-client             1.15.0\n",
      "referencing               0.36.2\n",
      "regex                     2024.11.6\n",
      "requests                  2.32.4\n",
      "rfc3339-validator         0.1.4\n",
      "rfc3986-validator         0.1.1\n",
      "rich                      14.1.0\n",
      "rich-rst                  1.3.1\n",
      "rouge                     1.0.1\n",
      "rpds-py                   0.26.0\n",
      "rsa                       4.9.1\n",
      "scikit-learn              1.7.0\n",
      "scipy                     1.15.3\n",
      "Send2Trash                1.8.3\n",
      "setuptools                57.4.0\n",
      "six                       1.17.0\n",
      "sniffio                   1.3.1\n",
      "soupsieve                 2.7\n",
      "sse-starlette             3.0.2\n",
      "stack-data                0.6.3\n",
      "starlette                 0.47.2\n",
      "sympy                     1.14.0\n",
      "tenacity                  8.5.0\n",
      "terminado                 0.18.1\n",
      "threadpoolctl             3.6.0\n",
      "tiktoken                  0.9.0\n",
      "tinycss2                  1.4.0\n",
      "tokenizers                0.21.2\n",
      "tomli                     2.2.1\n",
      "tornado                   6.5.1\n",
      "tqdm                      4.67.1\n",
      "traitlets                 5.14.3\n",
      "types-python-dateutil     2.9.0.20250516\n",
      "typing_extensions         4.14.1\n",
      "typing-inspection         0.4.1\n",
      "tzdata                    2025.2\n",
      "uri-template              1.3.0\n",
      "urllib3                   2.5.0\n",
      "uvicorn                   0.35.0\n",
      "wcwidth                   0.2.13\n",
      "webcolors                 24.11.1\n",
      "webencodings              0.5.1\n",
      "websocket-client          1.8.0\n",
      "websockets                15.0.1\n",
      "Werkzeug                  3.1.1\n",
      "widgetsnbextension        4.0.14\n",
      "win32_setctime            1.2.0\n"
     ]
    },
    {
     "name": "stderr",
     "output_type": "stream",
     "text": [
      "WARNING: You are using pip version 21.2.3; however, version 25.2 is available.\n",
      "You should consider upgrading via the 'c:\\Users\\ying xin\\Projects\\llm-zoomcamp\\venv\\Scripts\\python.exe -m pip install --upgrade pip' command.\n"
     ]
    }
   ],
   "source": [
    "pip list"
   ]
  },
  {
   "cell_type": "markdown",
   "id": "8c43a6d2",
   "metadata": {},
   "source": [
    "# Question 4, 5"
   ]
  },
  {
   "cell_type": "code",
   "execution_count": null,
   "id": "0c5ebf5e",
   "metadata": {},
   "outputs": [],
   "source": [
    " # see weather_server.py\n",
    "# # Note: to run the script, use `uv run weather_server.py`"
   ]
  },
  {
   "cell_type": "code",
   "execution_count": null,
   "id": "2db56850",
   "metadata": {},
   "outputs": [],
   "source": [
    "# response {\"jsonrpc\":\"2.0\",\"id\":3,\"result\":{\"content\":[{\"type\":\"text\",\"text\":\"20.0\"}],\"structuredContent\":{\"result\":20.0},\"isError\":false}}"
   ]
  },
  {
   "cell_type": "markdown",
   "id": "8740c0c7",
   "metadata": {},
   "source": [
    "# Question 6"
   ]
  },
  {
   "cell_type": "code",
   "execution_count": 28,
   "id": "283d8c1a",
   "metadata": {},
   "outputs": [
    {
     "name": "stdout",
     "output_type": "stream",
     "text": [
      "Available tools: [Tool(name='get_weather', title=None, description='Retrieves the temperature for a specified city.\\n\\nParameters:\\n    city (str): The name of the city for which to retrieve weather data.\\n\\nReturns:\\n    float: The temperature associated with the city.', inputSchema={'properties': {'city': {'title': 'City', 'type': 'string'}}, 'required': ['city'], 'type': 'object'}, outputSchema={'properties': {'result': {'title': 'Result', 'type': 'number'}}, 'required': ['result'], 'title': '_WrappedResult', 'type': 'object', 'x-fastmcp-wrap-result': True}, annotations=None, meta={'_fastmcp': {'tags': []}}), Tool(name='set_weather', title=None, description=\"Sets the temperature for a specified city.\\n\\nParameters:\\n    city (str): The name of the city for which to set the weather data.\\n    temp (float): The temperature to associate with the city.\\n\\nReturns:\\n    str: A confirmation string 'OK' indicating successful update.\", inputSchema={'properties': {'city': {'title': 'City', 'type': 'string'}, 'temp': {'title': 'Temp', 'type': 'number'}}, 'required': ['city', 'temp'], 'type': 'object'}, outputSchema=None, annotations=None, meta={'_fastmcp': {'tags': []}})]\n"
     ]
    }
   ],
   "source": [
    "from fastmcp import Client\n",
    "import weather_server\n",
    "import asyncio\n",
    "\n",
    "import nest_asyncio\n",
    "nest_asyncio.apply()\n",
    "\n",
    "async def main():\n",
    "    async with Client(weather_server.mcp) as mcp_client:\n",
    "        list_of_tools = await mcp_client.list_tools()\n",
    "        print(f'Available tools: {list_of_tools}')\n",
    "\n",
    "asyncio.run(main())"
   ]
  }
 ],
 "metadata": {
  "kernelspec": {
   "display_name": "venv (3.10.0)",
   "language": "python",
   "name": "python3"
  },
  "language_info": {
   "codemirror_mode": {
    "name": "ipython",
    "version": 3
   },
   "file_extension": ".py",
   "mimetype": "text/x-python",
   "name": "python",
   "nbconvert_exporter": "python",
   "pygments_lexer": "ipython3",
   "version": "3.10.0"
  }
 },
 "nbformat": 4,
 "nbformat_minor": 5
}
